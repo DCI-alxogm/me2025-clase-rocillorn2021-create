{
  "nbformat": 4,
  "nbformat_minor": 0,
  "metadata": {
    "colab": {
      "provenance": []
    },
    "kernelspec": {
      "name": "python3",
      "display_name": "Python 3"
    },
    "language_info": {
      "name": "python"
    }
  },
  "cells": [
    {
      "cell_type": "code",
      "execution_count": 8,
      "metadata": {
        "id": "3GudCVpAgGpm",
        "colab": {
          "base_uri": "https://localhost:8080/"
        },
        "outputId": "d94e8a2d-5979-4318-ca35-77fa30f37844"
      },
      "outputs": [
        {
          "output_type": "stream",
          "name": "stdout",
          "text": [
            "\u001b[01m\u001b[Kcc1:\u001b[m\u001b[K \u001b[01;31m\u001b[Kfatal error: \u001b[m\u001b[Kagosto.c: No such file or directory\n",
            "compilation terminated.\n"
          ]
        }
      ],
      "source": [
        "!gcc ej 1. 12 de agosto.c  -lm -o ej. 1. 12 de agosto.out"
      ]
    },
    {
      "cell_type": "code",
      "source": [
        "!./ej 1. 12 de agosto.out"
      ],
      "metadata": {
        "colab": {
          "base_uri": "https://localhost:8080/"
        },
        "id": "xQWM8bZOipfx",
        "outputId": "9782acf7-e28f-4af6-fd3b-49456c7b1278"
      },
      "execution_count": 9,
      "outputs": [
        {
          "output_type": "stream",
          "name": "stdout",
          "text": [
            "/bin/bash: line 1: ./ej: No such file or directory\n"
          ]
        }
      ]
    }
  ]
}