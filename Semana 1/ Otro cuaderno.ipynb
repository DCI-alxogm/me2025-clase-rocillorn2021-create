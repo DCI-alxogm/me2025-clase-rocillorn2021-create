{
  "nbformat": 4,
  "nbformat_minor": 0,
  "metadata": {
    "colab": {
      "provenance": [],
      "authorship_tag": "ABX9TyPmLnx44pxZrXDYqDGIwjF+",
      "include_colab_link": true
    },
    "kernelspec": {
      "name": "python3",
      "display_name": "Python 3"
    },
    "language_info": {
      "name": "python"
    }
  },
  "cells": [
    {
      "cell_type": "markdown",
      "metadata": {
        "id": "view-in-github",
        "colab_type": "text"
      },
      "source": [
        "<a href=\"https://colab.research.google.com/github/DCI-alxogm/me2025-clase-rocillorn2021-create/blob/main/Semana%201/%20Otro%20cuaderno.ipynb\" target=\"_parent\"><img src=\"https://colab.research.google.com/assets/colab-badge.svg\" alt=\"Open In Colab\"/></a>"
      ]
    },
    {
      "cell_type": "code",
      "execution_count": 1,
      "metadata": {
        "colab": {
          "base_uri": "https://localhost:8080/"
        },
        "id": "V7Jj85J-cYXd",
        "outputId": "c4ac137d-e720-485e-d20b-81c93811833c"
      },
      "outputs": [
        {
          "output_type": "stream",
          "name": "stdout",
          "text": [
            "Vamos por otro cuaderno\n"
          ]
        }
      ],
      "source": [
        "#Tercer cuaderno\n",
        "\n",
        "print(\"Vamos por otro cuaderno\")"
      ]
    },
    {
      "cell_type": "code",
      "source": [],
      "metadata": {
        "id": "p3cp7XgBckD8"
      },
      "execution_count": null,
      "outputs": []
    }
  ]
}